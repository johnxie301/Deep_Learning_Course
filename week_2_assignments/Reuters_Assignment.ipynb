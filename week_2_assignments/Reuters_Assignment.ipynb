{
  "cells": [
    {
      "attachments": {},
      "cell_type": "markdown",
      "metadata": {
        "id": "4FejM0cEQXUP"
      },
      "source": [
        "# Reuters Assignment\n",
        "## Adapted from Deep Learning with Python by Francois Chollet\n",
        "#### Using the IMDB jupyter notebook as an example follow the prompts below to build a neural network to classify Reuters news wires into 46 different categories."
      ]
    },
    {
      "cell_type": "code",
      "execution_count": 32,
      "metadata": {
        "id": "VLYzbicKQXUX"
      },
      "outputs": [
        {
          "name": "stderr",
          "output_type": "stream",
          "text": [
            "/var/folders/cq/h9b2vxfd42sc_hkml7gp1d2m0000gn/T/ipykernel_17800/1226147920.py:1: DeprecationWarning: Importing display from IPython.core.display is deprecated since IPython 7.14, please import from IPython display\n",
            "  from IPython.core.display import display, HTML\n"
          ]
        },
        {
          "data": {
            "text/html": [
              "<style>.container { width:95% !important; }</style>"
            ],
            "text/plain": [
              "<IPython.core.display.HTML object>"
            ]
          },
          "metadata": {},
          "output_type": "display_data"
        }
      ],
      "source": [
        "from IPython.core.display import display, HTML\n",
        "display(HTML(\"<style>.container { width:95% !important; }</style>\"))"
      ]
    },
    {
      "cell_type": "code",
      "execution_count": 33,
      "metadata": {
        "id": "aFH2CgDRQXVZ"
      },
      "outputs": [],
      "source": [
        "# Add the necessary libraries and load the data.\n",
        "from keras import backend\n",
        "from keras.datasets import reuters\n",
        "import numpy as np\n",
        "import pandas as pd\n",
        "import tensorflow as tf\n",
        "(train_data, train_labels), (test_data, test_labels) = reuters.load_data(num_words = 10000)"
      ]
    },
    {
      "cell_type": "code",
      "execution_count": 34,
      "metadata": {
        "id": "kckdgba5QXV2"
      },
      "outputs": [
        {
          "name": "stdout",
          "output_type": "stream",
          "text": [
            "(8982,)\n",
            "(2246,)\n"
          ]
        }
      ],
      "source": [
        "import operator\n",
        "# Print the word index\n",
        "print(train_data.shape)\n",
        "print(test_data.shape)"
      ]
    },
    {
      "cell_type": "code",
      "execution_count": 35,
      "metadata": {},
      "outputs": [
        {
          "name": "stdout",
          "output_type": "stream",
          "text": [
            "[3 4 3 4 4]\n"
          ]
        }
      ],
      "source": [
        "print(train_labels[:5])"
      ]
    },
    {
      "cell_type": "code",
      "execution_count": 38,
      "metadata": {
        "id": "35rwRsIeQXWZ"
      },
      "outputs": [],
      "source": [
        "# Here is the same function we created for vectorizing the IMDB data.\n",
        "def vectorize_sequences(sequences, dimension=10000):\n",
        "    word_matrix = tf.sparse.SparseTensor(\n",
        "        # The non-zero locations in each row correspond to the word indices that are found in the document\n",
        "        indices=[[row_idx, word_idx] for row_idx, word_indices in enumerate(sequences) for word_idx in set(word_indices)],\n",
        "        # Use \"1\" as the value of each non-zero index (indicating the word is used in the document)\n",
        "        values=[1 for row_idx, word_indices in enumerate(sequences) for word_idx in set(word_indices)],\n",
        "        # The overall tensor shape\n",
        "        dense_shape=[len(sequences), dimension]\n",
        "    )\n",
        "    # Optimize by ordering the non-zero indices in ascending row-major order\n",
        "    word_matrix = tf.sparse.reorder(word_matrix)\n",
        "    return word_matrix"
      ]
    },
    {
      "cell_type": "code",
      "execution_count": 39,
      "metadata": {
        "id": "ez2s5K3ZQXW2"
      },
      "outputs": [],
      "source": [
        "# Split the training data into an 80/20 train/validation split, and then vectorize the train/test/validation datasets\n",
        "from sklearn.model_selection import train_test_split\n",
        "x_train_data, x_val_data, y_train, y_val = train_test_split(train_data, train_labels, test_size=0.2, random_state=42)\n",
        "x_train = vectorize_sequences(x_train_data)\n",
        "x_val = vectorize_sequences(x_val_data)\n",
        "x_test = vectorize_sequences(test_data)"
      ]
    },
    {
      "cell_type": "code",
      "execution_count": 40,
      "metadata": {
        "id": "yN3CPRWGQXXG"
      },
      "outputs": [
        {
          "name": "stdout",
          "output_type": "stream",
          "text": [
            "[ 0  1  2  3  4  5  6  7  8  9 10 11 12 13 14 15 16 17 18 19 20 21 22 23\n",
            " 24 25 26 27 28 29 30 31 32 33 34 35 36 37 38 39 40 41 42 43 44 45]\n",
            "(7185, 10000)\n"
          ]
        }
      ],
      "source": [
        "# Print the unique train labels (there should be 46)\n",
        "# Print the shape of x_train\n",
        "print(np.unique(y_train))\n",
        "print(x_train.shape)"
      ]
    },
    {
      "cell_type": "code",
      "execution_count": 46,
      "metadata": {
        "id": "ZQdFycDNQXXP"
      },
      "outputs": [],
      "source": [
        "# Keras has a built-in function for categorical encoding which we saw in the MNIST workbook\n",
        "from keras.utils import to_categorical"
      ]
    },
    {
      "cell_type": "code",
      "execution_count": 48,
      "metadata": {
        "id": "fB6Irop5QXXY"
      },
      "outputs": [],
      "source": [
        "# Convert the labels to categorical\n",
        "y_train = to_categorical(y_train)\n",
        "y_val = to_categorical(y_val)\n",
        "y_test = to_categorical(test_labels)"
      ]
    },
    {
      "cell_type": "code",
      "execution_count": 49,
      "metadata": {
        "id": "OP9I_bOUQXXk"
      },
      "outputs": [],
      "source": [
        "# Import models and layers from Keras\n",
        "from keras import models\n",
        "from keras import layers"
      ]
    },
    {
      "cell_type": "code",
      "execution_count": 80,
      "metadata": {
        "id": "zIXltq67QXXw"
      },
      "outputs": [],
      "source": [
        "# Build a sequential model network with 1 hidden layer. The input and hidden layer must have more hidden units\n",
        "# than the number of classification categories. Things to think about: input and hidden layer activation,\n",
        "# output activation for a multiclass problem, input shape, output units\n",
        "model = models.Sequential()\n",
        "model.add(layers.Dense(368, activation = 'relu', input_dim = (10000)))\n",
        "model.add(layers.Dense(184, activation = 'relu'))\n",
        "model.add(layers.Dense(46, activation = 'softmax'))\n"
      ]
    },
    {
      "cell_type": "code",
      "execution_count": 81,
      "metadata": {
        "id": "NKDPXa4VQXX9"
      },
      "outputs": [],
      "source": [
        "# Compile the model. Think about what optimizer, loss function, and metrics will you use.\n",
        "model.compile(optimizer='adam',\n",
        "             loss = 'categorical_crossentropy',\n",
        "             metrics = ['accuracy'])\n"
      ]
    },
    {
      "cell_type": "code",
      "execution_count": 82,
      "metadata": {
        "id": "Bogp4BrGQXYJ"
      },
      "outputs": [
        {
          "name": "stdout",
          "output_type": "stream",
          "text": [
            "Epoch 1/20\n",
            "\u001b[1m15/15\u001b[0m \u001b[32m━━━━━━━━━━━━━━━━━━━━\u001b[0m\u001b[37m\u001b[0m \u001b[1m1s\u001b[0m 38ms/step - accuracy: 0.4097 - loss: 3.1075 - val_accuracy: 0.6756 - val_loss: 1.5955\n",
            "Epoch 2/20\n",
            "\u001b[1m15/15\u001b[0m \u001b[32m━━━━━━━━━━━━━━━━━━━━\u001b[0m\u001b[37m\u001b[0m \u001b[1m0s\u001b[0m 28ms/step - accuracy: 0.7288 - loss: 1.2762 - val_accuracy: 0.7563 - val_loss: 1.1641\n",
            "Epoch 3/20\n",
            "\u001b[1m15/15\u001b[0m \u001b[32m━━━━━━━━━━━━━━━━━━━━\u001b[0m\u001b[37m\u001b[0m \u001b[1m0s\u001b[0m 29ms/step - accuracy: 0.8216 - loss: 0.8041 - val_accuracy: 0.8024 - val_loss: 0.9664\n",
            "Epoch 4/20\n",
            "\u001b[1m15/15\u001b[0m \u001b[32m━━━━━━━━━━━━━━━━━━━━\u001b[0m\u001b[37m\u001b[0m \u001b[1m0s\u001b[0m 29ms/step - accuracy: 0.8997 - loss: 0.4824 - val_accuracy: 0.8164 - val_loss: 0.8949\n",
            "Epoch 5/20\n",
            "\u001b[1m15/15\u001b[0m \u001b[32m━━━━━━━━━━━━━━━━━━━━\u001b[0m\u001b[37m\u001b[0m \u001b[1m0s\u001b[0m 29ms/step - accuracy: 0.9373 - loss: 0.2951 - val_accuracy: 0.8236 - val_loss: 0.8767\n",
            "Epoch 6/20\n",
            "\u001b[1m15/15\u001b[0m \u001b[32m━━━━━━━━━━━━━━━━━━━━\u001b[0m\u001b[37m\u001b[0m \u001b[1m0s\u001b[0m 29ms/step - accuracy: 0.9588 - loss: 0.1843 - val_accuracy: 0.8253 - val_loss: 0.8643\n",
            "Epoch 7/20\n",
            "\u001b[1m15/15\u001b[0m \u001b[32m━━━━━━━━━━━━━━━━━━━━\u001b[0m\u001b[37m\u001b[0m \u001b[1m0s\u001b[0m 29ms/step - accuracy: 0.9617 - loss: 0.1388 - val_accuracy: 0.8280 - val_loss: 0.8957\n",
            "Epoch 8/20\n",
            "\u001b[1m15/15\u001b[0m \u001b[32m━━━━━━━━━━━━━━━━━━━━\u001b[0m\u001b[37m\u001b[0m \u001b[1m0s\u001b[0m 29ms/step - accuracy: 0.9664 - loss: 0.1185 - val_accuracy: 0.8325 - val_loss: 0.9300\n",
            "Epoch 9/20\n",
            "\u001b[1m15/15\u001b[0m \u001b[32m━━━━━━━━━━━━━━━━━━━━\u001b[0m\u001b[37m\u001b[0m \u001b[1m0s\u001b[0m 29ms/step - accuracy: 0.9680 - loss: 0.0975 - val_accuracy: 0.8125 - val_loss: 0.9705\n",
            "Epoch 10/20\n",
            "\u001b[1m15/15\u001b[0m \u001b[32m━━━━━━━━━━━━━━━━━━━━\u001b[0m\u001b[37m\u001b[0m \u001b[1m0s\u001b[0m 29ms/step - accuracy: 0.9636 - loss: 0.1024 - val_accuracy: 0.8275 - val_loss: 0.9777\n",
            "Epoch 11/20\n",
            "\u001b[1m15/15\u001b[0m \u001b[32m━━━━━━━━━━━━━━━━━━━━\u001b[0m\u001b[37m\u001b[0m \u001b[1m0s\u001b[0m 29ms/step - accuracy: 0.9663 - loss: 0.0922 - val_accuracy: 0.8152 - val_loss: 0.9995\n",
            "Epoch 12/20\n",
            "\u001b[1m15/15\u001b[0m \u001b[32m━━━━━━━━━━━━━━━━━━━━\u001b[0m\u001b[37m\u001b[0m \u001b[1m0s\u001b[0m 30ms/step - accuracy: 0.9686 - loss: 0.0847 - val_accuracy: 0.8269 - val_loss: 0.9789\n",
            "Epoch 13/20\n",
            "\u001b[1m15/15\u001b[0m \u001b[32m━━━━━━━━━━━━━━━━━━━━\u001b[0m\u001b[37m\u001b[0m \u001b[1m0s\u001b[0m 30ms/step - accuracy: 0.9679 - loss: 0.0881 - val_accuracy: 0.8286 - val_loss: 0.9934\n",
            "Epoch 14/20\n",
            "\u001b[1m15/15\u001b[0m \u001b[32m━━━━━━━━━━━━━━━━━━━━\u001b[0m\u001b[37m\u001b[0m \u001b[1m0s\u001b[0m 29ms/step - accuracy: 0.9655 - loss: 0.1045 - val_accuracy: 0.8280 - val_loss: 0.9833\n",
            "Epoch 15/20\n",
            "\u001b[1m15/15\u001b[0m \u001b[32m━━━━━━━━━━━━━━━━━━━━\u001b[0m\u001b[37m\u001b[0m \u001b[1m0s\u001b[0m 29ms/step - accuracy: 0.9663 - loss: 0.0855 - val_accuracy: 0.8197 - val_loss: 0.9962\n",
            "Epoch 16/20\n",
            "\u001b[1m15/15\u001b[0m \u001b[32m━━━━━━━━━━━━━━━━━━━━\u001b[0m\u001b[37m\u001b[0m \u001b[1m0s\u001b[0m 29ms/step - accuracy: 0.9715 - loss: 0.0824 - val_accuracy: 0.8297 - val_loss: 0.9892\n",
            "Epoch 17/20\n",
            "\u001b[1m15/15\u001b[0m \u001b[32m━━━━━━━━━━━━━━━━━━━━\u001b[0m\u001b[37m\u001b[0m \u001b[1m0s\u001b[0m 30ms/step - accuracy: 0.9699 - loss: 0.0803 - val_accuracy: 0.8253 - val_loss: 1.0073\n",
            "Epoch 18/20\n",
            "\u001b[1m15/15\u001b[0m \u001b[32m━━━━━━━━━━━━━━━━━━━━\u001b[0m\u001b[37m\u001b[0m \u001b[1m0s\u001b[0m 29ms/step - accuracy: 0.9692 - loss: 0.0799 - val_accuracy: 0.8175 - val_loss: 1.0290\n",
            "Epoch 19/20\n",
            "\u001b[1m15/15\u001b[0m \u001b[32m━━━━━━━━━━━━━━━━━━━━\u001b[0m\u001b[37m\u001b[0m \u001b[1m0s\u001b[0m 30ms/step - accuracy: 0.9700 - loss: 0.0786 - val_accuracy: 0.8236 - val_loss: 1.0252\n",
            "Epoch 20/20\n",
            "\u001b[1m15/15\u001b[0m \u001b[32m━━━━━━━━━━━━━━━━━━━━\u001b[0m\u001b[37m\u001b[0m \u001b[1m0s\u001b[0m 29ms/step - accuracy: 0.9657 - loss: 0.0794 - val_accuracy: 0.8214 - val_loss: 1.0063\n"
          ]
        }
      ],
      "source": [
        "# Train your model on the training data for 20 epochs and 500 batch size and a validation split = 20%.\n",
        "history = model.fit(x_train,\n",
        "                   y_train,\n",
        "                   epochs = 20,\n",
        "                   batch_size = 500,\n",
        "                   validation_data=(x_val, y_val))\n"
      ]
    },
    {
      "cell_type": "code",
      "execution_count": 83,
      "metadata": {
        "id": "cFMw_I8FQXYU"
      },
      "outputs": [],
      "source": [
        "import matplotlib.pyplot as plt"
      ]
    },
    {
      "cell_type": "code",
      "execution_count": 84,
      "metadata": {
        "id": "a93HH_RGTlw5"
      },
      "outputs": [
        {
          "name": "stdout",
          "output_type": "stream",
          "text": [
            "    accuracy      loss  val_accuracy  val_loss\n",
            "15  0.967432  0.093263      0.829716  0.989231\n",
            "16  0.964788  0.093181      0.825264  1.007347\n",
            "17  0.965901  0.088463      0.817474  1.028977\n",
            "18  0.966458  0.086517      0.823595  1.025242\n",
            "19  0.964509  0.082380      0.821369  1.006338\n"
          ]
        }
      ],
      "source": [
        "# Use this bit of code to view the History output.\n",
        "hist = pd.DataFrame(history.history)\n",
        "print(hist.tail())"
      ]
    },
    {
      "cell_type": "code",
      "execution_count": 85,
      "metadata": {
        "id": "2UC1Wq-0QXYd"
      },
      "outputs": [],
      "source": [
        "# Let's plot the loss and accuracy vs epochs\n",
        "import matplotlib.pyplot as plt\n",
        "history_dict = history.history\n",
        "loss_values = history_dict['loss']\n",
        "val_loss_values = history_dict['val_loss']\n",
        "acc_values = history_dict['accuracy']\n",
        "val_acc_values = history_dict['val_accuracy']\n",
        "epochs = range(1, len(history_dict['accuracy']) + 1)"
      ]
    },
    {
      "cell_type": "code",
      "execution_count": 86,
      "metadata": {
        "id": "RtdrPkJBQXYk"
      },
      "outputs": [
        {
          "data": {
            "image/png": "[encoded data removed]",
            "text/plain": [
              "<Figure size 640x480 with 1 Axes>"
            ]
          },
          "metadata": {},
          "output_type": "display_data"
        }
      ],
      "source": [
        "# Use the IMDB example to plot the validataion and training loss vs epochs\n",
        "\n",
        "plt.plot(epochs, loss_values, 'bo', label = 'Training loss')\n",
        "plt.plot(epochs, val_loss_values, 'b', label = 'Validation loss')\n",
        "plt.title('Training and validation loss')\n",
        "plt.xlabel('Epochs')\n",
        "plt.ylabel('Loss')\n",
        "plt.legend()\n",
        "plt.show()"
      ]
    },
    {
      "cell_type": "code",
      "execution_count": 87,
      "metadata": {
        "id": "RBDWbbJUQXYt"
      },
      "outputs": [
        {
          "data": {
            "image/png": "[encoded data removed]",
            "text/plain": [
              "<Figure size 640x480 with 1 Axes>"
            ]
          },
          "metadata": {},
          "output_type": "display_data"
        }
      ],
      "source": [
        "# Use the IMDB example to plot the validation and training accuracy vs epochs\n",
        "plt.plot(epochs, acc_values, 'bo', label = 'Training accuracy')\n",
        "plt.plot(epochs, val_acc_values, 'b', label = 'Validation accuracy')\n",
        "plt.title('Training and validation accuracy')\n",
        "plt.xlabel('Epochs')\n",
        "plt.ylabel('Accuracy')\n",
        "plt.legend()\n",
        "plt.show()"
      ]
    },
    {
      "cell_type": "code",
      "execution_count": 89,
      "metadata": {
        "id": "sR-uHo3lQXYy"
      },
      "outputs": [
        {
          "name": "stdout",
          "output_type": "stream",
          "text": [
            "\u001b[1m71/71\u001b[0m \u001b[32m━━━━━━━━━━━━━━━━━━━━\u001b[0m\u001b[37m\u001b[0m \u001b[1m0s\u001b[0m 3ms/step - accuracy: 0.8011 - loss: 1.0784\n",
            "test_acc: 0.7960819005966187\n"
          ]
        }
      ],
      "source": [
        "# Evaluate the model on the test data and print the results\n",
        "test_loss, test_acc = model.evaluate(x_test, y_test)\n",
        "print('test_acc:', test_acc)"
      ]
    },
    {
      "attachments": {},
      "cell_type": "markdown",
      "metadata": {
        "id": "JPH31AvJtx35"
      },
      "source": [
        "Build a new model and try to get the  accuracy as high as you can. Things to try: more hidden layers and hiddent units, activation types, epochs, batch size, and validation_split. Try as many models as you like.  \n",
        "\n",
        "Be sure to clear the session each time: `backend.clear_session()`. Copy your best model the end of the notebook.\n"
      ]
    },
    {
      "cell_type": "markdown",
      "metadata": {},
      "source": [
        "## Best model:"
      ]
    },
    {
      "cell_type": "code",
      "execution_count": 108,
      "metadata": {
        "id": "_xy1Q-QwQXZB"
      },
      "outputs": [
        {
          "name": "stdout",
          "output_type": "stream",
          "text": [
            "Epoch 1/4\n",
            "\u001b[1m24/24\u001b[0m \u001b[32m━━━━━━━━━━━━━━━━━━━━\u001b[0m\u001b[37m\u001b[0m \u001b[1m2s\u001b[0m 57ms/step - accuracy: 0.4857 - loss: 2.3727\n",
            "Epoch 2/4\n",
            "\u001b[1m24/24\u001b[0m \u001b[32m━━━━━━━━━━━━━━━━━━━━\u001b[0m\u001b[37m\u001b[0m \u001b[1m2s\u001b[0m 61ms/step - accuracy: 0.7975 - loss: 0.8650\n",
            "Epoch 3/4\n",
            "\u001b[1m24/24\u001b[0m \u001b[32m━━━━━━━━━━━━━━━━━━━━\u001b[0m\u001b[37m\u001b[0m \u001b[1m1s\u001b[0m 60ms/step - accuracy: 0.9069 - loss: 0.3748\n",
            "Epoch 4/4\n",
            "\u001b[1m24/24\u001b[0m \u001b[32m━━━━━━━━━━━━━━━━━━━━\u001b[0m\u001b[37m\u001b[0m \u001b[1m1s\u001b[0m 58ms/step - accuracy: 0.9548 - loss: 0.1961\n",
            "\u001b[1m71/71\u001b[0m \u001b[32m━━━━━━━━━━━━━━━━━━━━\u001b[0m\u001b[37m\u001b[0m \u001b[1m1s\u001b[0m 6ms/step - accuracy: 0.8112 - loss: 0.9678\n",
            "['loss', 'compile_metrics']\n",
            "[1.013105869293213, 0.8049866557121277]\n"
          ]
        }
      ],
      "source": [
        "backend.clear_session()\n",
        "model = models.Sequential()\n",
        "model.add(layers.Dense(1472, activation = 'relu', input_dim = (10000)))\n",
        "model.add(layers.Dense(736, activation = 'relu'))\n",
        "model.add(layers.Dense(368, activation = 'relu'))\n",
        "model.add(layers.Dense(46, activation = 'softmax'))\n",
        "model.compile(optimizer='adam',\n",
        "             loss = 'categorical_crossentropy',\n",
        "             metrics = ['accuracy'])\n",
        "\n",
        "model.fit(x_train,\n",
        "          y_train,\n",
        "          epochs = 4,\n",
        "          batch_size = 300,\n",
        "          verbose = 1)\n",
        "results = model.evaluate(x_test, y_test)\n",
        "print(model.metrics_names)\n",
        "print(results)"
      ]
    },
    {
      "cell_type": "markdown",
      "metadata": {},
      "source": [
        "## Conclusion:\n",
        "1. activation function:      \n",
        "    When I am doing this assignment I had more understanding of the differences between activation functions. The input activation function and output activation functions can be different based on what type of problems the model is trying to solve. For input and hidden layer I choose to use the fundamental one 'relu' as it works pretty well. For output function, since I am dealing with a multiclass classification problem where I can either use 'sigmoid' or 'softmax' as my output activation function and the test result is relatively the same.\n",
        "\n",
        "2. Epochs:      \n",
        "    I used 4 epochs because I notice the training accuracy is getting overfitted after that. 3 is a little less and 4 is just right. Turns out 4 epochs gives the best result for my model when everything else stays the same.\n",
        "\n",
        "3. batch size:\n",
        "    Although a smaller batch size takes more time to train, it brings better accuracy. However, batch size 250 seemms to be a little too low it was not giving any significant changes on the accuracy. I find 300 the best result of all the batch size I tried:[500, 550, 400, 300, 250]\n",
        "\n",
        "Overall, this assignment is a pretty good one to get to know how to use the model for multiclass categorical problems. It is similar to the problem we had in week 1 assignment but a lot more complicated since this time we are analyzing using words(the number representation of words)). This reminds me of the object detection problem where I feel like wether it is words, image or voice lines, we are all transform it into series of numbers where the computer can understand it their way.\n",
        "\n",
        "\n",
        "\n",
        "Source: https://keras.io/api/layers/activations/      \n",
        "source: https://machinelearningmastery.com/choose-an-activation-function-for-deep-learning/"
      ]
    },
    {
      "cell_type": "code",
      "execution_count": null,
      "metadata": {},
      "outputs": [],
      "source": []
    }
  ],
  "metadata": {
    "colab": {
      "collapsed_sections": [],
      "name": "Reuters_Assignment.ipynb",
      "provenance": []
    },
    "kernelspec": {
      "display_name": "Python 3",
      "language": "python",
      "name": "python3"
    },
    "language_info": {
      "codemirror_mode": {
        "name": "ipython",
        "version": 3
      },
      "file_extension": ".py",
      "mimetype": "text/x-python",
      "name": "python",
      "nbconvert_exporter": "python",
      "pygments_lexer": "ipython3",
      "version": "3.11.4"
    }
  },
  "nbformat": 4,
  "nbformat_minor": 0
}
